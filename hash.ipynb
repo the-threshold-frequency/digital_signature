{
 "cells": [
  {
   "cell_type": "code",
   "execution_count": 2,
   "metadata": {},
   "outputs": [
    {
     "name": "stdout",
     "output_type": "stream",
     "text": [
      "Requirement already satisfied: rsa in e:\\projects\\python\\lhr\\conda\\lib\\site-packages (4.9)\n",
      "Requirement already satisfied: pyasn1>=0.1.3 in e:\\projects\\python\\lhr\\conda\\lib\\site-packages (from rsa) (0.4.8)\n",
      "Note: you may need to restart the kernel to use updated packages.\n"
     ]
    }
   ],
   "source": [
    "#install rsa library for encryption and decryption\n",
    "pip install rsa"
   ]
  },
  {
   "cell_type": "code",
   "execution_count": 3,
   "metadata": {},
   "outputs": [],
   "source": [
    "#import rsa library\n",
    "import rsa"
   ]
  },
  {
   "cell_type": "code",
   "execution_count": 4,
   "metadata": {},
   "outputs": [],
   "source": [
    "#helper methods for private key and public key generation implemented\n",
    "#keys folder is created which will hold two .pem files for private and public keys\n",
    "def generateKeys():\n",
    "    (publicKey, privateKey) = rsa.newkeys(1024)\n",
    "    with open('keys/publicKey.pem', 'wb') as p:\n",
    "        p.write(publicKey.save_pkcs1('PEM'))\n",
    "    with open('keys/privateKey.pem', 'wb') as p:\n",
    "        p.write(privateKey.save_pkcs1('PEM'))"
   ]
  },
  {
   "cell_type": "code",
   "execution_count": 5,
   "metadata": {},
   "outputs": [],
   "source": [
    "#load the keys\n",
    "def loadKeys():\n",
    "    with open('keys/publicKey.pem', 'rb') as p:\n",
    "        publicKey = rsa.PublicKey.load_pkcs1(p.read())\n",
    "    with open('keys/privateKey.pem', 'rb') as p:\n",
    "        privateKey = rsa.PrivateKey.load_pkcs1(p.read())\n",
    "    return privateKey, publicKey"
   ]
  },
  {
   "cell_type": "code",
   "execution_count": 6,
   "metadata": {},
   "outputs": [],
   "source": [
    "#encryption method (ASCII)\n",
    "def encrypt(message, key):\n",
    "    return rsa.encrypt(message.encode('ascii'), key)"
   ]
  },
  {
   "cell_type": "code",
   "execution_count": 8,
   "metadata": {},
   "outputs": [],
   "source": [
    "#decryption method\n",
    "#takes ciphertext and key as parameters\n",
    "def decrypt(ciphertext, key):\n",
    "    try:\n",
    "        return rsa.decrypt(ciphertext, key).decode('ascii')\n",
    "    except:\n",
    "        return False"
   ]
  },
  {
   "cell_type": "code",
   "execution_count": 9,
   "metadata": {},
   "outputs": [],
   "source": [
    "#method to sign message with a key (digital signature)\n",
    "#hashing algorithm used: SHA-1 \n",
    "\n",
    "def sign(message, key):\n",
    "    return rsa.sign(message.encode('ascii'), key, 'SHA-1')"
   ]
  },
  {
   "cell_type": "code",
   "execution_count": 10,
   "metadata": {},
   "outputs": [],
   "source": [
    "#method to verify signature on receiving end\n",
    "#SHA-1 hashing algorithm is used on the signature to check if the output is equal to the sender's hash\n",
    "def verify(message, signature, key):\n",
    "    try:\n",
    "        return rsa.verify(message.encode('ascii'), signature, key,) == 'SHA-1'\n",
    "    except:\n",
    "        return False"
   ]
  },
  {
   "cell_type": "code",
   "execution_count": null,
   "metadata": {},
   "outputs": [],
   "source": [
    "#----------end of RSA algorithm----------\n",
    "#----------start of main program----------"
   ]
  },
  {
   "cell_type": "code",
   "execution_count": 11,
   "metadata": {},
   "outputs": [],
   "source": [
    "#generateKeys() is called and the keys are loaded\n",
    "generateKeys()\n",
    "privateKey, publicKey =loadKeys()"
   ]
  },
  {
   "cell_type": "code",
   "execution_count": 12,
   "metadata": {},
   "outputs": [],
   "source": [
    "#message input is taken from user\n",
    "message = input('Write your message here:')\n",
    "ciphertext = encrypt(message, publicKey)"
   ]
  },
  {
   "cell_type": "code",
   "execution_count": 13,
   "metadata": {},
   "outputs": [],
   "source": [
    "#generate signature with private key\n",
    "signature = sign(message, privateKey)"
   ]
  },
  {
   "cell_type": "code",
   "execution_count": 14,
   "metadata": {},
   "outputs": [],
   "source": [
    "#decryption code\n",
    "text = decrypt(ciphertext, privateKey)"
   ]
  },
  {
   "cell_type": "code",
   "execution_count": 15,
   "metadata": {},
   "outputs": [
    {
     "name": "stdout",
     "output_type": "stream",
     "text": [
      "Cipher text: b'\\x94@\\x10\\xc5\\xcd\\xf6\\xd7\\x08\\x0ccu>?\\x02\\x0f:\\xda\\xbb^\\xb4\\x89\\x98`^\\x03\\x04\\xcb\\xf9*\\x9bR_g)\\x18\\x9c\\x1e\\xf8\\xaf\\xf1\\xcaV\\xac\"q\\x15;L\\xc0=Lj\\xf6\\x9f\\xd8\\xba\\xec,2p^|\\xacb\\x02\\x98\\x04\\x99\\xd6\\x83Lc\\xb9\\xe0V\\xe7\\r\\x8b\\xcc\\x81x\\xaa\\x8a\\xbf\\xfd\\tn\\xd8W}\\xa3\\x87\\x9f#4\\xda\\x02>&{SZ\\xc0Z\\xcdUb\\x038\\x14\\x99Sj\\xf3\\x18iI\\xda35\\x8d\\xfcA\\x81\\xbb\\xac\\xc3\\xda'\n",
      "Signature: b'a\\x92\\x0f\\xa9\\xf7W\\xb4\\xf3)O/\\xc7<\\x87/C0\\xf0c${\\xfc+\\xd9a#b\\xca\\xfc&ww92\\x00\\x93t\\x96\\xc5)\\x01+d\\xcf\\xae\\x02\\xf6\\xaf\\xd7t\\xa4\\x96\\xe1(\\xd5:\\x19\\xd0\\xe0 \\xccu>\\xfdS\\xe9\\x95\\x1b\\x1a|\\xb7pO/\\xfe\\xaf\\x85\\xe3\\xdaw\\x00\\xeb\\xd7\\xbaQY\\xc6m\\x05\\xe7&\\xc6w\\xf9\\xe2T\\xc5\\x03M\\xe2\\xf2LZp\\xc1\\x94-\\x0e\\'\\xcd\\x08.\\x83R\\x91k\"\\xdd\\x94\\x8c\\tD\\xcf\\xd1\\xaa\\xceyO'\n"
     ]
    }
   ],
   "source": [
    "#code to print ciphertext and signature for project purposes\n",
    "print(f'Cipher text: {ciphertext}')\n",
    "print(f'Signature: {signature}')"
   ]
  },
  {
   "cell_type": "code",
   "execution_count": 16,
   "metadata": {},
   "outputs": [
    {
     "name": "stdout",
     "output_type": "stream",
     "text": [
      "Message text: hello world\n"
     ]
    }
   ],
   "source": [
    "#plain text displayed on receiving end\n",
    "if text:\n",
    "    print(f'Message text: {text}')\n",
    "else:\n",
    "    print(f'Unable to decrypt the message.')"
   ]
  },
  {
   "cell_type": "code",
   "execution_count": 18,
   "metadata": {},
   "outputs": [
    {
     "name": "stdout",
     "output_type": "stream",
     "text": [
      "Successfully verified signature\n"
     ]
    }
   ],
   "source": [
    "#code to verify digital signature of message\n",
    "if verify(text, signature, publicKey):\n",
    "    print('Successfully verified signature')\n",
    "else:\n",
    "    print('The message signature could not be verified')"
   ]
  }
 ],
 "metadata": {
  "kernelspec": {
   "display_name": "Python 3.9.12 ('base')",
   "language": "python",
   "name": "python3"
  },
  "language_info": {
   "codemirror_mode": {
    "name": "ipython",
    "version": 3
   },
   "file_extension": ".py",
   "mimetype": "text/x-python",
   "name": "python",
   "nbconvert_exporter": "python",
   "pygments_lexer": "ipython3",
   "version": "3.9.12"
  },
  "orig_nbformat": 4,
  "vscode": {
   "interpreter": {
    "hash": "82dabe365788d3c4964b07fec459111892370e7466461eed6acc8a837686ccbb"
   }
  }
 },
 "nbformat": 4,
 "nbformat_minor": 2
}
